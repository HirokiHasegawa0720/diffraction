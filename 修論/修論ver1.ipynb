{
 "cells": [
  {
   "cell_type": "markdown",
   "metadata": {},
   "source": [
    "4. 機械学習の手法"
   ]
  },
  {
   "cell_type": "markdown",
   "metadata": {},
   "source": [
    "4.1. データセット"
   ]
  },
  {
   "cell_type": "code",
   "execution_count": 8,
   "metadata": {},
   "outputs": [],
   "source": [
    "#MSE vs サーチケース\n",
    "from sklearn.inspection import permutation_importance\n",
    "from sklearn.model_selection import KFold, StratifiedKFold, GridSearchCV, train_test_split,cross_val_score\n",
    "from sklearn.metrics import mean_squared_error, roc_auc_score, r2_score\n",
    "\n",
    "import pandas as pd\n",
    "import matplotlib.pyplot as plt\n",
    "import seaborn as sns\n",
    "import pandas as pd\n",
    "import numpy as np\n",
    "from sklearn.model_selection import train_test_split\n",
    "from sklearn.metrics import mean_squared_error,r2_score\n",
    "from sklearn.neural_network import MLPRegressor\n",
    "import itertools\n",
    "from sklearn.model_selection import GridSearchCV\n",
    "from sklearn.preprocessing import StandardScaler\n",
    "from sklearn.preprocessing import MinMaxScaler\n",
    "from mpl_toolkits.mplot3d import Axes3D\n",
    "\n",
    "#reaction length\n",
    "df = pd.read_excel('/mnt/c/CEA/all_mixtureexp15.xlsx')\n",
    "\n",
    "l1=['Fuel','Diluent','Equivalentratio','CoefficientDiluent','Oxidizer','diluentratio','P0','H0[KJ/kg]', 'M0[kg/kmol]', 'γ0[-]', 'a0[m/s]',\\\n",
    "        'pcj[bar]', 'Tcj[K]', 'Hcj[KJ/kg]',\\\n",
    "                    'Mcj[kg/kmol]', 'γcj[-]', 'acj[m/s]',\\\n",
    "                         'Mcj[-]', 'Vcj[m/s]',\\\n",
    "        'Pvn[bar]', 'Tvn[K]', 'Hvn[KJ/kg]',\\\n",
    "                      'γvn[-]','avn[m/s]','theta','Lr','Lc']\n",
    "\n",
    "XpcaFLRDED = pd.DataFrame({'P0':df['P0']})\n",
    "\n",
    "for i in range(len(l1)):\n",
    "    XpcaFLRDED[l1[i]]=df[l1[i]]\n",
    "\n",
    "XpcaFLRDED =  XpcaFLRDED[~( XpcaFLRDED['Fuel'] == 'C2H2') | ~( XpcaFLRDED['Diluent'] == 'Ar') | ~( XpcaFLRDED['Lc'] ==  5)]\n",
    "XpcaFLRDED =  XpcaFLRDED[~( XpcaFLRDED['Fuel'] == 'C2H2') | ~( XpcaFLRDED['Diluent'] == 'Ar') | ~( XpcaFLRDED['Lc'] ==  10)]\n",
    "XpcaFLRDED =  XpcaFLRDED[~( XpcaFLRDED['Diluent'] == 'Kr')]\n",
    "\n",
    "dfC2H2Hetrain = XpcaFLRDED[~( XpcaFLRDED['Fuel'] == 'C2H2') | ~( XpcaFLRDED['Diluent'] == 'He')]\n",
    "dfC2H2Hetest = XpcaFLRDED[( XpcaFLRDED['Fuel'] == 'C2H2') & ( XpcaFLRDED['Diluent'] == 'He')]\n",
    "\n",
    "dfC3H6O2train = dfC2H2Hetrain[~( dfC2H2Hetrain['Fuel'] == 'C3H6') | ~( dfC2H2Hetrain['Oxidizer'] == 'O2')]\n",
    "dfC3H6O2test = dfC2H2Hetrain[( dfC2H2Hetrain['Fuel'] == 'C3H6') & ( dfC2H2Hetrain['Oxidizer'] == 'O2')]\n",
    "\n",
    "dftrainval = dfC3H6O2train.sample(frac=1)\n",
    "\n",
    "X_trainval = dftrainval.drop(columns=['Diluent','Fuel','Equivalentratio','CoefficientDiluent','Oxidizer','Lr','Lc','diluentratio'])\n",
    "XC2H2Hetest = dfC2H2Hetest.drop(columns=['Diluent','Fuel','Equivalentratio','CoefficientDiluent','Oxidizer','Lr','Lc','diluentratio'])\n",
    "XC3H6O2test  = dfC3H6O2test.drop(columns=['Diluent','Fuel','Equivalentratio','CoefficientDiluent','Oxidizer','Lr','Lc','diluentratio'])\n",
    "\n",
    "y_trainval = dftrainval['Lr']\n",
    "yC2H2Hetest = dfC2H2Hetest['Lr']\n",
    "yC3H6O2test = dfC3H6O2test['Lr']\n"
   ]
  },
  {
   "cell_type": "code",
   "execution_count": 9,
   "metadata": {},
   "outputs": [
    {
     "name": "stdout",
     "output_type": "stream",
     "text": [
      "Index(['P0', 'H0[KJ/kg]', 'M0[kg/kmol]', 'γ0[-]', 'pcj[bar]', 'Tcj[K]',\n",
      "       'Hcj[KJ/kg]', 'Mcj[kg/kmol]', 'γcj[-]', 'Mcj[-]', 'Tvn[K]', 'theta'],\n",
      "      dtype='object')\n",
      "12\n"
     ]
    },
    {
     "data": {
      "image/png": "[encoded data removed]",
      "text/plain": [
       "<Figure size 432x288 with 2 Axes>"
      ]
     },
     "metadata": {
      "needs_background": "light"
     },
     "output_type": "display_data"
    }
   ],
   "source": [
    "#4.1.　特徴量の削減\n",
    "\n",
    "threshold = 0.9\n",
    "\n",
    "feat_corr = set()\n",
    "corr_matrix = X_trainval.corr()\n",
    "corr_matrix.to_excel('/mnt/c/CEA/matrix1.xlsx')\n",
    "corr_matrix = corr_matrix.abs()\n",
    "corr_matrix.to_excel('/mnt/c/CEA/matrix2.xlsx')\n",
    "plt.figure()\n",
    "sns.heatmap(corr_matrix,cmap='viridis')\n",
    "#plt.tight_layout()\n",
    "plt.savefig('gurafu5.png')\n",
    "\n",
    "for i in range(len(corr_matrix.columns)):\n",
    "    z=0\n",
    "    corr_matrix.iloc[i, i]=0\n",
    "    for j in range(i):\n",
    "        if abs(corr_matrix.iloc[i, j]) > threshold:\n",
    "            feat_name1 = corr_matrix.columns[i]\n",
    "            feat_name2 = corr_matrix.columns[j]\n",
    "            corr_matrix.iloc[i, j]=0\n",
    "            corr_matrix.iloc[j,i]=0\n",
    "            corr_matrix.iloc[i, z]=feat_name2\n",
    "            feat_corr.add(feat_name1)\n",
    "            z=z+1\n",
    "\n",
    "        else:\n",
    "            corr_matrix.iloc[i, j]=0\n",
    "            corr_matrix.iloc[j,i]=0\n",
    "        \n",
    "X_trainval.drop(labels=feat_corr, axis='columns', inplace=True)\n",
    "print(X_trainval.columns)\n",
    "print(len(X_trainval.columns))\n",
    "\n",
    "corr_matrix.to_excel('/mnt/c/CEA/matrix3.xlsx')"
   ]
  },
  {
   "cell_type": "markdown",
   "metadata": {},
   "source": [
    "ss = StandardScaler()\n",
    "sX_train = ss.fit_transform(X_train)\n",
    "sX_train = pd.DataFrame(sX_train,columns=X_train.columns)"
   ]
  },
  {
   "cell_type": "markdown",
   "metadata": {},
   "source": [
    "5. ANN回帰"
   ]
  },
  {
   "cell_type": "code",
   "execution_count": 10,
   "metadata": {},
   "outputs": [
    {
     "ename": "NameError",
     "evalue": "name 'sX_train' is not defined",
     "output_type": "error",
     "traceback": [
      "\u001b[0;31m---------------------------------------------------------------------------\u001b[0m",
      "\u001b[0;31mNameError\u001b[0m                                 Traceback (most recent call last)",
      "\u001b[0;32m/tmp/ipykernel_1319/339858861.py\u001b[0m in \u001b[0;36m<module>\u001b[0;34m\u001b[0m\n\u001b[1;32m     12\u001b[0m \u001b[0mparam_grid\u001b[0m \u001b[0;34m=\u001b[0m \u001b[0;34m{\u001b[0m\u001b[0;34m'solver'\u001b[0m\u001b[0;34m:\u001b[0m\u001b[0msol\u001b[0m\u001b[0;34m,\u001b[0m\u001b[0;34m'activation'\u001b[0m\u001b[0;34m:\u001b[0m\u001b[0mact\u001b[0m\u001b[0;34m,\u001b[0m\u001b[0;34m'hidden_layer_sizes'\u001b[0m\u001b[0;34m:\u001b[0m\u001b[0mhidd\u001b[0m\u001b[0;34m,\u001b[0m\u001b[0;34m'alpha'\u001b[0m\u001b[0;34m:\u001b[0m\u001b[0malp\u001b[0m\u001b[0;34m}\u001b[0m\u001b[0;34m\u001b[0m\u001b[0;34m\u001b[0m\u001b[0m\n\u001b[1;32m     13\u001b[0m \u001b[0mgrid1\u001b[0m\u001b[0;34m=\u001b[0m\u001b[0mGridSearchCV\u001b[0m\u001b[0;34m(\u001b[0m\u001b[0mMLPRegressor\u001b[0m\u001b[0;34m(\u001b[0m\u001b[0;34m)\u001b[0m\u001b[0;34m,\u001b[0m \u001b[0mparam_grid\u001b[0m \u001b[0;34m,\u001b[0m\u001b[0mcv\u001b[0m\u001b[0;34m=\u001b[0m\u001b[0;36m2\u001b[0m\u001b[0;34m,\u001b[0m \u001b[0mn_jobs\u001b[0m\u001b[0;34m=\u001b[0m\u001b[0;36m4\u001b[0m\u001b[0;34m)\u001b[0m\u001b[0;34m\u001b[0m\u001b[0;34m\u001b[0m\u001b[0m\n\u001b[0;32m---> 14\u001b[0;31m \u001b[0mgrid1\u001b[0m\u001b[0;34m.\u001b[0m\u001b[0mfit\u001b[0m\u001b[0;34m(\u001b[0m\u001b[0msX_train\u001b[0m\u001b[0;34m,\u001b[0m\u001b[0my_train\u001b[0m\u001b[0;34m)\u001b[0m\u001b[0;34m\u001b[0m\u001b[0;34m\u001b[0m\u001b[0m\n\u001b[0m\u001b[1;32m     15\u001b[0m \u001b[0;34m\u001b[0m\u001b[0m\n\u001b[1;32m     16\u001b[0m \u001b[0mprint\u001b[0m\u001b[0;34m(\u001b[0m\u001b[0;34m'Best parameters: {}'\u001b[0m\u001b[0;34m.\u001b[0m\u001b[0mformat\u001b[0m\u001b[0;34m(\u001b[0m\u001b[0mgrid1\u001b[0m\u001b[0;34m.\u001b[0m\u001b[0mbest_params_\u001b[0m\u001b[0;34m)\u001b[0m\u001b[0;34m)\u001b[0m\u001b[0;34m\u001b[0m\u001b[0;34m\u001b[0m\u001b[0m\n",
      "\u001b[0;31mNameError\u001b[0m: name 'sX_train' is not defined"
     ]
    }
   ],
   "source": [
    "sol = ['adam']\n",
    "act = ['relu']\n",
    "hidd = []\n",
    "\n",
    "for i in [4]:\n",
    "    for j in [200]:\n",
    "        b=[j]*i\n",
    "        b=tuple(b)\n",
    "        hidd.append(b)\n",
    "\n",
    "alp=[1e-4]\n",
    "param_grid = {'solver':sol,'activation':act,'hidden_layer_sizes':hidd,'alpha':alp}\n",
    "grid1=GridSearchCV(MLPRegressor(), param_grid ,cv=2, n_jobs=4)\n",
    "grid1.fit(sX_train,y_train)\n",
    "\n",
    "print('Best parameters: {}'.format(grid1.best_params_))\n",
    "print('Best cross-validation: {}'.format(grid1.best_score_))"
   ]
  }
 ],
 "metadata": {
  "interpreter": {
   "hash": "916dbcbb3f70747c44a77c7bcd40155683ae19c65e1c03b4aa3499c5328201f1"
  },
  "kernelspec": {
   "display_name": "Python 3.8.10 64-bit",
   "language": "python",
   "name": "python3"
  },
  "language_info": {
   "codemirror_mode": {
    "name": "ipython",
    "version": 3
   },
   "file_extension": ".py",
   "mimetype": "text/x-python",
   "name": "python",
   "nbconvert_exporter": "python",
   "pygments_lexer": "ipython3",
   "version": "3.8.10"
  },
  "orig_nbformat": 4
 },
 "nbformat": 4,
 "nbformat_minor": 2
}
