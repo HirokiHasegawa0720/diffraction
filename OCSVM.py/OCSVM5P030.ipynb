{
 "cells": [
  {
   "cell_type": "code",
   "execution_count": 65,
   "metadata": {},
   "outputs": [
    {
     "name": "stdout",
     "output_type": "stream",
     "text": [
      "64\n",
      "1 0.8001 0.8001 C2H2N2\n",
      "1 0.8009999999999999 0.8009999999999999 C2H2He\n",
      "2 0.8004000000000001 0.7503 C2H6N2O\n",
      "1 0.8004000000000001 0.8004000000000001 C3H6O2\n",
      "1 0.8001 0.8001 C3H6N2O\n"
     ]
    }
   ],
   "source": [
    "#MSE vs サーチケース\n",
    "from sklearn.inspection import permutation_importance\n",
    "from sklearn.model_selection import KFold, StratifiedKFold, GridSearchCV, train_test_split,cross_val_score\n",
    "from sklearn.metrics import mean_squared_error, roc_auc_score, r2_score\n",
    "\n",
    "import pandas as pd\n",
    "import matplotlib.pyplot as plt\n",
    "import seaborn as sns\n",
    "import pandas as pd\n",
    "import numpy as np\n",
    "from sklearn.model_selection import train_test_split\n",
    "from sklearn.metrics import mean_squared_error,r2_score\n",
    "from sklearn.neural_network import MLPRegressor\n",
    "import itertools\n",
    "from sklearn.model_selection import GridSearchCV\n",
    "from sklearn.preprocessing import StandardScaler\n",
    "from sklearn.preprocessing import MinMaxScaler\n",
    "from mpl_toolkits.mplot3d import Axes3D\n",
    "\n",
    "#reaction length\n",
    "df = pd.read_excel('/mnt/c/CEA/all_mixtureexp15.xlsx')\n",
    "\n",
    "l1=['Fuel','Diluent','Equivalentratio','CoefficientDiluent','Oxidizer','diluentratio','P0', 'T0', 'H0[KJ/kg]', 'M0[kg/kmol]', 'γ0[-]', 'pcj[bar]', 'Tcj[K]',\n",
    "       'Hcj[KJ/kg]', 'Mcj[kg/kmol]', 'γcj[-]', 'Mcj[-]', 'Tvn[K]','Lr','Lc']\n",
    "\n",
    "XpcaFLRDED = pd.DataFrame({'P0':df['P0']})\n",
    "\n",
    "for i in range(len(l1)):\n",
    "    XpcaFLRDED[l1[i]]=df[l1[i]]\n",
    "\n",
    "XpcaFLRDED =  XpcaFLRDED[~( XpcaFLRDED['Fuel'] == 'C2H2') | ~( XpcaFLRDED['Diluent'] == 'Ar') | ~( XpcaFLRDED['Lc'] ==  5)]\n",
    "XpcaFLRDED =  XpcaFLRDED[~( XpcaFLRDED['Fuel'] == 'C2H2') | ~( XpcaFLRDED['Diluent'] == 'Ar') | ~( XpcaFLRDED['Lc'] ==  10)]\n",
    "XpcaFLRDED =  XpcaFLRDED[~( XpcaFLRDED['Fuel'] == 'C2H2') | ~( XpcaFLRDED['Diluent'] == 'Ar') | ~( XpcaFLRDED['Lc'] ==  20)]\n",
    "XpcaFLRDED =  XpcaFLRDED[~( XpcaFLRDED['Diluent'] == 'Kr')]\n",
    "\n",
    "print(len(XpcaFLRDED[( XpcaFLRDED['Fuel'] == 'C2H2') & ( XpcaFLRDED['Diluent'] == 'Ar')]))\n",
    "\n",
    "dfC2H2N2train = XpcaFLRDED[~( XpcaFLRDED['Fuel'] == 'C2H2') | ~( XpcaFLRDED['Diluent'] == 'N2')]\n",
    "dfC2H2N2test = XpcaFLRDED[( XpcaFLRDED['Fuel'] == 'C2H2') & ( XpcaFLRDED['Diluent'] == 'N2')]\n",
    "\n",
    "dfC2H2Hetrain = dfC2H2N2train[~( dfC2H2N2train['Fuel'] == 'C2H2') | ~( dfC2H2N2train['Diluent'] == 'He')]\n",
    "dfC2H2Hetest = dfC2H2N2train[( dfC2H2N2train['Fuel'] == 'C2H2') & ( dfC2H2N2train['Diluent'] == 'He')]\n",
    "\n",
    "dfC2H6N2Otrain =  dfC2H2Hetrain[~( dfC2H2Hetrain['Fuel'] == 'C2H6') | ~( dfC2H2Hetrain['Oxidizer'] == 'N2O')]\n",
    "dfC2H6N2Otest = dfC2H2Hetrain[( dfC2H2Hetrain['Fuel'] == 'C2H6') & ( dfC2H2Hetrain['Oxidizer'] == 'N2O')]\n",
    "\n",
    "dfC3H6O2train =  dfC2H6N2Otrain[~( dfC2H6N2Otrain['Fuel'] == 'C3H6') | ~( dfC2H6N2Otrain['Oxidizer'] == 'O2')]\n",
    "dfC3H6O2test = dfC2H6N2Otrain[( dfC2H6N2Otrain['Fuel'] == 'C3H6') & ( dfC2H6N2Otrain['Oxidizer'] == 'O2')]\n",
    "\n",
    "dfC3H6N2Otrain =  dfC3H6O2train[~( dfC3H6O2train['Fuel'] == 'C3H6') | ~( dfC3H6O2train['Oxidizer'] == 'N2O')]\n",
    "dfC3H6N2Otest = dfC3H6O2train[( dfC3H6O2train['Fuel'] == 'C3H6') & ( dfC3H6O2train['Oxidizer'] == 'N2O')]\n",
    "\n",
    "#print(len(dfC3H6N2Otrain[( dfC3H6N2Otrain['Fuel'] == 'H2')]),dfC3H6N2Otrain[( dfC3H6N2Otrain['Fuel'] == 'H2')]['P0'].max(),dfC3H6N2Otrain[( dfC3H6N2Otrain['Fuel'] == 'H2')]['P0'].min(),'H2')\n",
    "#print(len(dfC3H6N2Otrain[( dfC3H6N2Otrain['Fuel'] == 'C2H2') & (dfC3H6N2Otrain['Diluent'].isnull())]),dfC3H6N2Otrain[( dfC3H6N2Otrain['Fuel'] == 'C2H2') & (dfC3H6N2Otrain['Diluent'].isnull())]['P0'].max(),dfC3H6N2Otrain[( dfC3H6N2Otrain['Fuel'] == 'C2H2') & (dfC3H6N2Otrain['Diluent'].isnull())]['P0'].min(),'C2H2')\n",
    "#print(len(dfC3H6N2Otrain[( dfC3H6N2Otrain['Fuel'] == 'C2H2') & (dfC3H6N2Otrain['Diluent']=='Ar')]),dfC3H6N2Otrain[( dfC3H6N2Otrain['Fuel'] == 'C2H2') & (dfC3H6N2Otrain['Diluent']=='Ar')]['P0'].max(),dfC3H6N2Otrain[( dfC3H6N2Otrain['Fuel'] == 'C2H2') & (dfC3H6N2Otrain['Diluent'].isnull())]['P0'].min(),'C2H2AR')\n",
    "#print(len(dfC3H6N2Otrain[( dfC3H6N2Otrain['Fuel'] == 'C2H4') & (dfC3H6N2Otrain['Diluent'].isnull())]),dfC3H6N2Otrain[( dfC3H6N2Otrain['Fuel'] == 'C2H4') & (dfC3H6N2Otrain['Diluent'].isnull())]['P0'].max(),dfC3H6N2Otrain[( dfC3H6N2Otrain['Fuel'] == 'C2H4') & (dfC3H6N2Otrain['Diluent'].isnull())]['P0'].min(),'C2H4')\n",
    "#print(len(dfC3H6N2Otrain[( dfC3H6N2Otrain['Fuel'] == 'C2H4') & (dfC3H6N2Otrain['Diluent']=='Ar')]),dfC3H6N2Otrain[( dfC3H6N2Otrain['Fuel'] == 'C2H4') & (dfC3H6N2Otrain['Diluent']=='Ar')]['P0'].max(),dfC3H6N2Otrain[( dfC3H6N2Otrain['Fuel'] == 'C2H4') & (dfC3H6N2Otrain['Diluent'].isnull())]['P0'].min(),'C2H4AR')\n",
    "#print(len(dfC3H6N2Otrain[( dfC3H6N2Otrain['Fuel'] == 'C2H6')]),dfC3H6N2Otrain[( dfC3H6N2Otrain['Fuel'] == 'C2H6')]['P0'].max(),dfC3H6N2Otrain[( dfC3H6N2Otrain['Fuel'] == 'C2H6')]['P0'].min(),'C2H6')\n",
    "\n",
    "dftrainval = dfC3H6N2Otrain.sample(frac=1)\n",
    "P0range = '0.85>P0>0.75'\n",
    "P0range1 = '0.85>P0>0.75'\n",
    "\n",
    "dfC2H2N2test = dfC2H2N2test.query(P0range1)\n",
    "dfC2H2Hetest = dfC2H2Hetest.query(P0range1)\n",
    "dfC2H6N2Otest = dfC2H6N2Otest.query(P0range1)\n",
    "dfC3H6O2test = dfC3H6O2test.query(P0range1)\n",
    "dfC3H6O2test = dfC3H6O2test[( dfC3H6O2test['Equivalentratio'] == 1)]\n",
    "dfC3H6N2Otest = dfC3H6N2Otest.query(P0range1)\n",
    "\n",
    "X_train = dftrainval.drop(columns=['Diluent','Fuel','Equivalentratio','CoefficientDiluent','Oxidizer','Lr','Lc','diluentratio'])\n",
    "XC2H2N2test = dfC2H2N2test.drop(columns=['Diluent','Fuel','Equivalentratio','CoefficientDiluent','Oxidizer','Lr','Lc','diluentratio'])\n",
    "XC2H2Hetest = dfC2H2Hetest.drop(columns=['Diluent','Fuel','Equivalentratio','CoefficientDiluent','Oxidizer','Lr','Lc','diluentratio'])\n",
    "XC2H6N2Otest = dfC2H6N2Otest.drop(columns=['Diluent','Fuel','Equivalentratio','CoefficientDiluent','Oxidizer','Lr','Lc','diluentratio'])\n",
    "XC3H6O2test  = dfC3H6O2test.drop(columns=['Diluent','Fuel','Equivalentratio','CoefficientDiluent','Oxidizer','Lr','Lc','diluentratio'])\n",
    "XC3H6N2Otest  = dfC3H6N2Otest.drop(columns=['Diluent','Fuel','Equivalentratio','CoefficientDiluent','Oxidizer','Lr','Lc','diluentratio'])\n",
    "\n",
    "y_train = dftrainval['Lr']\n",
    "yC2H2N2test = dfC2H2N2test['Lr']\n",
    "yC2H2Hetest = dfC2H2Hetest['Lr']\n",
    "yC2H6N2Otest = dfC2H6N2Otest['Lr']\n",
    "yC3H6O2test = dfC3H6O2test['Lr']\n",
    "yC3H6N2Otest = dfC3H6N2Otest['Lr']\n",
    "\n",
    "\n",
    "print(len(XC2H2N2test),XC2H2N2test['P0'].max(),XC2H2N2test['P0'].min(),'C2H2N2')\n",
    "print(len(XC2H2Hetest),XC2H2Hetest['P0'].max(),XC2H2Hetest['P0'].min(),'C2H2He')\n",
    "print(len(XC2H6N2Otest),XC2H6N2Otest['P0'].max(),XC2H6N2Otest['P0'].min(),'C2H6N2O')\n",
    "print(len(XC3H6O2test),XC3H6O2test['P0'].max(),XC3H6O2test['P0'].min(),'C3H6O2')\n",
    "print(len(XC3H6N2Otest),XC3H6N2Otest['P0'].max(),XC3H6N2Otest['P0'].min(),'C3H6N2O')\n",
    "\n",
    "#print(yC2H2N2test,'C2H2N2')\n",
    "#print(yC2H2Hetest,'C2H2He')\n",
    "#print(yC2H6N2Otest,'C2H6N2O')\n",
    "#print(yC3H6O2test,'C3H6O2')\n",
    "#print(yC3H6N2Otest,'C3H6N2O')\n",
    "\n",
    "\n",
    "ss = StandardScaler()\n",
    "sX_train = ss.fit_transform(X_train)\n",
    "sX_train = pd.DataFrame(sX_train,columns=X_train.columns)\n"
   ]
  },
  {
   "cell_type": "code",
   "execution_count": 66,
   "metadata": {},
   "outputs": [
    {
     "name": "stderr",
     "output_type": "stream",
     "text": [
      "/home/hiroki/.local/lib/python3.8/site-packages/sklearn/neural_network/_multilayer_perceptron.py:614: ConvergenceWarning: Stochastic Optimizer: Maximum iterations (200) reached and the optimization hasn't converged yet.\n",
      "  warnings.warn(\n"
     ]
    },
    {
     "name": "stdout",
     "output_type": "stream",
     "text": [
      "Best parameters: {'activation': 'relu', 'alpha': 0.0001, 'hidden_layer_sizes': (200, 200, 200, 200, 200, 200), 'solver': 'adam'}\n",
      "Best cross-validation: 0.9175726708282865\n"
     ]
    }
   ],
   "source": [
    "sol = ['adam']\n",
    "act = ['relu']\n",
    "hidd = []\n",
    "\n",
    "for i in [6]:\n",
    "    for j in [200]:\n",
    "        b=[j]*i\n",
    "        b=tuple(b)\n",
    "        hidd.append(b)\n",
    "\n",
    "alp=[1e-4]\n",
    "param_grid = {'solver':sol,'activation':act,'hidden_layer_sizes':hidd,'alpha':alp}\n",
    "grid1=GridSearchCV(MLPRegressor(), param_grid ,cv=2, n_jobs=4)\n",
    "grid1.fit(sX_train,y_train)\n",
    "\n",
    "print('Best parameters: {}'.format(grid1.best_params_))\n",
    "print('Best cross-validation: {}'.format(grid1.best_score_))"
   ]
  },
  {
   "cell_type": "code",
   "execution_count": 67,
   "metadata": {},
   "outputs": [
    {
     "name": "stdout",
     "output_type": "stream",
     "text": [
      "187\n"
     ]
    }
   ],
   "source": [
    "dftrainval1 = dftrainval[( dftrainval['Equivalentratio'] == 1)]\n",
    "dftrainval2 = dftrainval1[(dftrainval1['Diluent'].isnull()) | (dftrainval1['diluentratio'] == 50)]\n",
    "X_train = dftrainval2.drop(columns=['Diluent','Fuel','Equivalentratio','CoefficientDiluent','Oxidizer','Lr','Lc','diluentratio'])\n",
    "print(len(dftrainval2))\n",
    "X_train = X_train.query(P0range)\n",
    "sX_train = ss.transform(X_train)\n",
    "sXC2H2N2test = ss.transform(XC2H2N2test)\n",
    "sXC2H2Hetest = ss.transform(XC2H2Hetest)\n",
    "sXC2H6N2Otest = ss.transform(XC2H6N2Otest)\n",
    "sXC3H6O2test = ss.transform(XC3H6O2test)\n",
    "sXC3H6N2Otest = ss.transform(XC3H6N2Otest)"
   ]
  },
  {
   "cell_type": "code",
   "execution_count": 68,
   "metadata": {},
   "outputs": [
    {
     "data": {
      "image/png": "[encoded data removed]",
      "text/plain": [
       "<Figure size 432x432 with 1 Axes>"
      ]
     },
     "metadata": {
      "needs_background": "light"
     },
     "output_type": "display_data"
    }
   ],
   "source": [
    "from sklearn.decomposition import PCA,KernelPCA\n",
    "# データの分布を主成分分析（PCA）で表現してみる\n",
    "pca = PCA()\n",
    "#pca  = KernelPCA(n_components=2,  kernel='rbf', gamma=20.0)\n",
    "X_train_pca = pca.fit_transform(sX_train)\n",
    "X_testC2H2N2_pca = pca.transform(sXC2H2N2test)\n",
    "X_testC2H2He_pca = pca.transform(sXC2H2Hetest)\n",
    "X_testC2H6N2O_pca = pca.transform(sXC2H6N2Otest)\n",
    "X_testC3H6O2_pca = pca.transform(sXC3H6O2test)\n",
    "X_testC3H6N2O_pca = pca.transform(sXC3H6N2Otest)\n",
    "\n",
    "import matplotlib.ticker as ticker\n",
    "plt.figure(figsize=(6, 6))\n",
    "plt.rcParams['font.size'] = 18\n",
    "plt.rcParams['font.family'] = 'Arial'\n",
    "plt.rcParams['lines.linewidth'] = 2\n",
    "plt.rcParams['lines.markersize'] = 4.0\n",
    "\n",
    "plt.rcParams['axes.linewidth'] = 2.0\n",
    "\n",
    "plt.rcParams['xtick.direction'] = 'in'\n",
    "plt.rcParams['ytick.direction'] = 'in'\n",
    "plt.rcParams['xtick.top'] = True\n",
    "plt.rcParams['ytick.right'] = True\n",
    "\n",
    "plt.rcParams['xtick.major.size'] = 10\n",
    "plt.rcParams['xtick.major.width'] = 2.0\n",
    "plt.rcParams['ytick.major.size'] = 10\n",
    "plt.rcParams['ytick.major.width'] = 2.0\n",
    "\n",
    "plt.rcParams['xtick.minor.visible'] = True\n",
    "plt.rcParams['xtick.minor.size'] = 5\n",
    "plt.rcParams['xtick.minor.width'] = 1.5\n",
    "plt.rcParams['ytick.minor.visible'] = True\n",
    "plt.rcParams['ytick.minor.size'] = 5\n",
    "plt.rcParams['ytick.minor.width'] = 1.5\n",
    "plt.gca().get_xaxis().set_major_locator(ticker.MaxNLocator(integer=True))\n",
    "plt.plot([0] + list( np.cumsum(pca.explained_variance_ratio_)), \"-o\")\n",
    "plt.xlabel(\"Number of principal components\")\n",
    "plt.ylabel(\"Cumulative contribution rate\")\n",
    "plt.title(\"pca\")\n",
    "plt.tight_layout()\n",
    "plt.savefig(\"gurafu2(研究報告).png\")"
   ]
  },
  {
   "cell_type": "code",
   "execution_count": 79,
   "metadata": {},
   "outputs": [
    {
     "data": {
      "text/plain": [
       "'\\nplt.scatter(X_train_pca[y_train_class == 1, 2], X_train_pca[y_train_class == 1, 3],s=10,color=\\'black\\')\\n#plt.scatter(X_train_pca[y_train_class == -1, 2], X_train_pca[y_train_class == -1, 3],s=10,color=\\'grey\\')\\nplt.scatter(X_testC2H2N2_pca[y_test_classC2H2N2 == 1, 2], X_testC2H2N2_pca[y_test_classC2H2N2 == 1, 3],s=10,color=\\'blue\\')\\nplt.scatter(X_testC2H2N2_pca[y_test_classC2H2N2 == -1, 2], X_testC2H2N2_pca[y_test_classC2H2N2 == -1, 3],s=10,color=\\'red\\')\\nplt.scatter(X_testC2H2He_pca[y_test_classC2H2He == 1, 2], X_testC2H2He_pca[y_test_classC2H2He == 1, 3],s=10,color=\\'blue\\')\\nplt.scatter(X_testC2H2He_pca[y_test_classC2H2He == -1, 2], X_testC2H2He_pca[y_test_classC2H2He == -1, 3],s=10,color=\\'red\\')\\nplt.scatter(X_testC2H6N2O_pca[y_test_classC2H6N2O == 1, 2], X_testC2H6N2O_pca[y_test_classC2H6N2O == 1, 3],s=10,color=\\'blue\\')\\nplt.scatter(X_testC2H6N2O_pca[y_test_classC2H6N2O == -1, 2], X_testC2H6N2O_pca[y_test_classC2H6N2O == -1, 3],s=10,color=\\'red\\')\\nplt.scatter(X_testC3H6O2_pca[y_test_classC3H6O2 == 1, 2], X_testC3H6O2_pca[y_test_classC3H6O2 == 1, 3],s=10,color=\\'blue\\')\\nplt.scatter(X_testC3H6O2_pca[y_test_classC3H6O2 == -1, 2], X_testC3H6O2_pca[y_test_classC3H6O2 == -1, 3],s=10,color=\\'red\\')\\nplt.scatter(X_testC3H6N2O_pca[y_test_classC3H6N2O == 1, 2], X_testC3H6N2O_pca[y_test_classC3H6N2O == 1, 3],s=10,color=\\'blue\\')\\nplt.scatter(X_testC3H6N2O_pca[y_test_classC3H6N2O == -1, 2], X_testC3H6N2O_pca[y_test_classC3H6N2O == -1, 3],s=10,color=\\'red\\')\\nplt.xlabel(\\'PC_3\\')\\nplt.ylabel(\\'PC_4\\')\\nplt.tight_layout()\\nplt.savefig(\"gurafu1(OCSVM).png\")\\n'"
      ]
     },
     "execution_count": 79,
     "metadata": {},
     "output_type": "execute_result"
    },
    {
     "data": {
      "text/plain": [
       "<Figure size 720x720 with 0 Axes>"
      ]
     },
     "metadata": {},
     "output_type": "display_data"
    },
    {
     "data": {
      "image/png": "[encoded data removed]",
      "text/plain": [
       "<Figure size 360x360 with 1 Axes>"
      ]
     },
     "metadata": {
      "needs_background": "light"
     },
     "output_type": "display_data"
    },
    {
     "data": {
      "text/plain": [
       "<Figure size 720x720 with 0 Axes>"
      ]
     },
     "metadata": {},
     "output_type": "display_data"
    },
    {
     "data": {
      "text/plain": [
       "<Figure size 360x360 with 0 Axes>"
      ]
     },
     "metadata": {},
     "output_type": "display_data"
    }
   ],
   "source": [
    "from sklearn.decomposition import PCA\n",
    "# データの分布を主成分分析（PCA）で表現してみる\n",
    "pca =  KernelPCA(n_components=3,  kernel='linear')\n",
    "X_train_pca = pca.fit_transform(sX_train)\n",
    "X_testC2H2N2_pca = pca.transform(sXC2H2N2test)\n",
    "X_testC2H2He_pca = pca.transform(sXC2H2Hetest)\n",
    "X_testC2H6N2O_pca = pca.transform(sXC2H6N2Otest)\n",
    "X_testC3H6O2_pca = pca.transform(sXC3H6O2test)\n",
    "X_testC3H6N2O_pca = pca.transform(sXC3H6N2Otest)\n",
    "\n",
    "from sklearn.svm import OneClassSVM\n",
    "# One class support vector machine (OCSVM) モデルを構築する\n",
    "clf = OneClassSVM(nu = 0.1)\n",
    "y_train_class = clf.fit_predict(X_train_pca)\n",
    "y_test_classC2H2N2 = clf.predict(X_testC2H2N2_pca)\n",
    "y_test_classC2H2He = clf.predict(X_testC2H2He_pca)\n",
    "y_test_classC2H6N2O = clf.predict(X_testC2H6N2O_pca)\n",
    "y_test_classC3H6O2 = clf.predict(X_testC3H6O2_pca)\n",
    "y_test_classC3H6N2O = clf.predict(X_testC3H6N2O_pca)\n",
    "# フォントを変更\n",
    "plt.rcParams[\"font.family\"] = \"Arial\"\n",
    "\n",
    "# Plot のインスタンスと図の大きさを定義\n",
    "fig = plt.figure(figsize = (10, 10))\n",
    "\n",
    "# インスタンスの中に複数のグラフを作る場合に指定\n",
    "# 引数は（行数、列数、具体的に作りたい図のインデックス）\n",
    "# グラフを 1 つだけ作りたいときは (1, 1, 1)としてやれば良い\n",
    "\n",
    "plt.figure(figsize=(5,5))\n",
    "\n",
    "plt.rcParams['font.size'] = 18\n",
    "plt.rcParams['font.family'] = 'Arial'\n",
    "plt.rcParams['lines.linewidth'] = 2\n",
    "plt.rcParams['lines.markersize'] = 4.0\n",
    "\n",
    "plt.rcParams['axes.linewidth'] = 2.0\n",
    "\n",
    "plt.rcParams['xtick.direction'] = 'in'\n",
    "plt.rcParams['ytick.direction'] = 'in'\n",
    "plt.rcParams['xtick.top'] = True\n",
    "plt.rcParams['ytick.right'] = True\n",
    "\n",
    "plt.rcParams['xtick.major.size'] = 10\n",
    "plt.rcParams['xtick.major.width'] = 2.0\n",
    "plt.rcParams['ytick.major.size'] = 10\n",
    "plt.rcParams['ytick.major.width'] = 2.0\n",
    "\n",
    "plt.rcParams['xtick.minor.visible'] = True\n",
    "plt.rcParams['xtick.minor.size'] = 5\n",
    "plt.rcParams['xtick.minor.width'] = 1.5\n",
    "plt.rcParams['ytick.minor.visible'] = True\n",
    "plt.rcParams['ytick.minor.size'] = 5\n",
    "plt.rcParams['ytick.minor.width'] = 1.5\n",
    "\n",
    "plt.scatter(X_train_pca[y_train_class == 1, 0], X_train_pca[y_train_class == 1, 1],s=10,color='black')\n",
    "#plt.scatter(X_train_pca[y_train_class == -1, 0], X_train_pca[y_train_class == -1, 1],s=10,color='grey')\n",
    "plt.scatter(X_testC2H2N2_pca[y_test_classC2H2N2 == 1, 0], X_testC2H2N2_pca[y_test_classC2H2N2 == 1, 1],s=10,color='blue')\n",
    "plt.scatter(X_testC2H2N2_pca[y_test_classC2H2N2 == -1, 0], X_testC2H2N2_pca[y_test_classC2H2N2 == -1, 1],s=10,color='red')\n",
    "plt.scatter(X_testC2H2He_pca[y_test_classC2H2He == 1, 0], X_testC2H2He_pca[y_test_classC2H2He == 1, 1],s=10,color='blue')\n",
    "plt.scatter(X_testC2H2He_pca[y_test_classC2H2He == -1, 0], X_testC2H2He_pca[y_test_classC2H2He == -1, 1],s=10,color='red')\n",
    "plt.scatter(X_testC2H6N2O_pca[y_test_classC2H6N2O == 1, 0], X_testC2H6N2O_pca[y_test_classC2H6N2O == 1, 1],s=10,color='blue')\n",
    "plt.scatter(X_testC2H6N2O_pca[y_test_classC2H6N2O == -1, 0], X_testC2H6N2O_pca[y_test_classC2H6N2O == -1, 1],s=10,color='red')\n",
    "plt.scatter(X_testC3H6O2_pca[y_test_classC3H6O2 == 1, 0], X_testC3H6O2_pca[y_test_classC3H6O2 == 1, 1],s=10,color='blue')\n",
    "plt.scatter(X_testC3H6O2_pca[y_test_classC3H6O2 == -1, 0], X_testC3H6O2_pca[y_test_classC3H6O2 == -1, 1],s=10,color='red')\n",
    "plt.scatter(X_testC3H6N2O_pca[y_test_classC3H6N2O == 1, 0], X_testC3H6N2O_pca[y_test_classC3H6N2O == 1, 1],s=10,color='blue')\n",
    "plt.scatter(X_testC3H6N2O_pca[y_test_classC3H6N2O == -1, 0], X_testC3H6N2O_pca[y_test_classC3H6N2O == -1, 1],s=10,color='red')\n",
    "\n",
    "plt.xlabel('PC_1')\n",
    "plt.ylabel('PC_2')\n",
    "plt.tight_layout()\n",
    "plt.savefig(\"gurafu1(OCSVM).png\")\n",
    "\n",
    "# Plot のインスタンスと図の大きさを定義\n",
    "fig = plt.figure(figsize = (10, 10))\n",
    "\n",
    "# インスタンスの中に複数のグラフを作る場合に指定\n",
    "# 引数は（行数、列数、具体的に作りたい図のインデックス）\n",
    "# グラフを 1 つだけ作りたいときは (1, 1, 1)としてやれば良い\n",
    "\n",
    "plt.figure(figsize=(5,5))\n",
    "\n",
    "plt.rcParams['font.size'] = 18\n",
    "plt.rcParams['font.family'] = 'Arial'\n",
    "plt.rcParams['lines.linewidth'] = 2\n",
    "plt.rcParams['lines.markersize'] = 4.0\n",
    "\n",
    "plt.rcParams['axes.linewidth'] = 2.0\n",
    "\n",
    "plt.rcParams['xtick.direction'] = 'in'\n",
    "plt.rcParams['ytick.direction'] = 'in'\n",
    "plt.rcParams['xtick.top'] = True\n",
    "plt.rcParams['ytick.right'] = True\n",
    "\n",
    "plt.rcParams['xtick.major.size'] = 10\n",
    "plt.rcParams['xtick.major.width'] = 2.0\n",
    "plt.rcParams['ytick.major.size'] = 10\n",
    "plt.rcParams['ytick.major.width'] = 2.0\n",
    "\n",
    "plt.rcParams['xtick.minor.visible'] = True\n",
    "plt.rcParams['xtick.minor.size'] = 5\n",
    "plt.rcParams['xtick.minor.width'] = 1.5\n",
    "plt.rcParams['ytick.minor.visible'] = True\n",
    "plt.rcParams['ytick.minor.size'] = 5\n",
    "plt.rcParams['ytick.minor.width'] = 1.5\n",
    "\n",
    "'''\n",
    "plt.scatter(X_train_pca[y_train_class == 1, 2], X_train_pca[y_train_class == 1, 3],s=10,color='black')\n",
    "#plt.scatter(X_train_pca[y_train_class == -1, 2], X_train_pca[y_train_class == -1, 3],s=10,color='grey')\n",
    "plt.scatter(X_testC2H2N2_pca[y_test_classC2H2N2 == 1, 2], X_testC2H2N2_pca[y_test_classC2H2N2 == 1, 3],s=10,color='blue')\n",
    "plt.scatter(X_testC2H2N2_pca[y_test_classC2H2N2 == -1, 2], X_testC2H2N2_pca[y_test_classC2H2N2 == -1, 3],s=10,color='red')\n",
    "plt.scatter(X_testC2H2He_pca[y_test_classC2H2He == 1, 2], X_testC2H2He_pca[y_test_classC2H2He == 1, 3],s=10,color='blue')\n",
    "plt.scatter(X_testC2H2He_pca[y_test_classC2H2He == -1, 2], X_testC2H2He_pca[y_test_classC2H2He == -1, 3],s=10,color='red')\n",
    "plt.scatter(X_testC2H6N2O_pca[y_test_classC2H6N2O == 1, 2], X_testC2H6N2O_pca[y_test_classC2H6N2O == 1, 3],s=10,color='blue')\n",
    "plt.scatter(X_testC2H6N2O_pca[y_test_classC2H6N2O == -1, 2], X_testC2H6N2O_pca[y_test_classC2H6N2O == -1, 3],s=10,color='red')\n",
    "plt.scatter(X_testC3H6O2_pca[y_test_classC3H6O2 == 1, 2], X_testC3H6O2_pca[y_test_classC3H6O2 == 1, 3],s=10,color='blue')\n",
    "plt.scatter(X_testC3H6O2_pca[y_test_classC3H6O2 == -1, 2], X_testC3H6O2_pca[y_test_classC3H6O2 == -1, 3],s=10,color='red')\n",
    "plt.scatter(X_testC3H6N2O_pca[y_test_classC3H6N2O == 1, 2], X_testC3H6N2O_pca[y_test_classC3H6N2O == 1, 3],s=10,color='blue')\n",
    "plt.scatter(X_testC3H6N2O_pca[y_test_classC3H6N2O == -1, 2], X_testC3H6N2O_pca[y_test_classC3H6N2O == -1, 3],s=10,color='red')\n",
    "plt.xlabel('PC_3')\n",
    "plt.ylabel('PC_4')\n",
    "plt.tight_layout()\n",
    "plt.savefig(\"gurafu1(OCSVM).png\")\n",
    "'''"
   ]
  },
  {
   "cell_type": "code",
   "execution_count": 80,
   "metadata": {},
   "outputs": [
    {
     "data": {
      "image/png": "[encoded data removed]",
      "text/plain": [
       "<Figure size 360x360 with 1 Axes>"
      ]
     },
     "metadata": {
      "needs_background": "light"
     },
     "output_type": "display_data"
    }
   ],
   "source": [
    "resultC2H2N2=grid1.predict(sXC2H2N2test)\n",
    "resultC2H2He=grid1.predict(sXC2H2Hetest)\n",
    "resultC2H6N2O=grid1.predict(sXC2H6N2Otest)\n",
    "resultC3H6O2=grid1.predict(sXC3H6O2test)\n",
    "resultC3H6N2O=grid1.predict(sXC3H6N2Otest)\n",
    "\n",
    "plt.figure(figsize=(5,5))\n",
    "\n",
    "plt.rcParams['font.size'] = 18\n",
    "plt.rcParams['font.family'] = 'Arial'\n",
    "plt.rcParams['lines.linewidth'] = 2\n",
    "plt.rcParams['lines.markersize'] = 4.0\n",
    "\n",
    "plt.rcParams['axes.linewidth'] = 2.0\n",
    "\n",
    "plt.rcParams['xtick.direction'] = 'in'\n",
    "plt.rcParams['ytick.direction'] = 'in'\n",
    "plt.rcParams['xtick.top'] = True\n",
    "plt.rcParams['ytick.right'] = True\n",
    "\n",
    "plt.rcParams['xtick.major.size'] = 10\n",
    "plt.rcParams['xtick.major.width'] = 2.0\n",
    "plt.rcParams['ytick.major.size'] = 10\n",
    "plt.rcParams['ytick.major.width'] = 2.0\n",
    "\n",
    "plt.rcParams['xtick.minor.visible'] = True\n",
    "plt.rcParams['xtick.minor.size'] = 5\n",
    "plt.rcParams['xtick.minor.width'] = 1.5\n",
    "plt.rcParams['ytick.minor.visible'] = True\n",
    "plt.rcParams['ytick.minor.size'] = 5\n",
    "plt.rcParams['ytick.minor.width'] = 1.5\n",
    "\n",
    "\n",
    "plt.plot([0, 60], [0, 60],color='black')\n",
    "\n",
    "# データをプロットする\n",
    "plt.scatter(yC2H2N2test[y_test_classC2H2N2 == 1], resultC2H2N2[y_test_classC2H2N2 == 1],s=20,color='grey', label = \"AD_inside\")\n",
    "plt.scatter(yC2H2N2test[y_test_classC2H2N2 == -1], resultC2H2N2[y_test_classC2H2N2 == -1],s=20,color='black', label = \"AD_outside\")\n",
    "plt.scatter(yC2H2Hetest[y_test_classC2H2He == 1], resultC2H2He[y_test_classC2H2He == 1],s=20,color='grey', label = \"AD_inside\")\n",
    "plt.scatter(yC2H2Hetest[y_test_classC2H2He == -1], resultC2H2He[y_test_classC2H2He == -1],s=20,color='black', label = \"AD_outside\")\n",
    "plt.scatter(yC2H6N2Otest[y_test_classC2H6N2O == 1], resultC2H6N2O[y_test_classC2H6N2O == 1],s=20,color='grey', label = \"AD_inside\")\n",
    "plt.scatter(yC2H6N2Otest[y_test_classC2H6N2O == -1], resultC2H6N2O[y_test_classC2H6N2O == -1],s=20,color='black', label = \"AD_outside\")\n",
    "plt.scatter(yC3H6O2test[y_test_classC3H6O2 == 1], resultC3H6O2[y_test_classC3H6O2 == 1],s=20,color='grey', label = \"AD_inside\")\n",
    "plt.scatter(yC3H6O2test[y_test_classC3H6O2 == -1], resultC3H6O2[y_test_classC3H6O2 == -1],s=20,color='black', label = \"AD_outside\")\n",
    "plt.scatter(yC3H6N2Otest[y_test_classC3H6N2O == 1], resultC3H6N2O[y_test_classC3H6N2O == 1],s=20,color='grey', label = \"AD_inside\")\n",
    "plt.scatter(yC3H6N2Otest[y_test_classC3H6N2O == -1], resultC3H6N2O[y_test_classC3H6N2O == -1],s=20,color='black', label = \"AD_outside\")\n",
    "\n",
    "plt.xlim(0, 60)\n",
    "plt.ylim(0, 60)\n",
    "plt.xticks(np.arange(0, 61, step=20))\n",
    "plt.yticks(np.arange(0, 61, step=20))\n",
    "plt.xlabel('LR experiment [mm]')\n",
    "plt.ylabel('LR predict [mm]')\n",
    "plt.tight_layout()\n",
    "plt.savefig(\"gurafu2(OCSVM).png\")"
   ]
  }
 ],
 "metadata": {
  "interpreter": {
   "hash": "916dbcbb3f70747c44a77c7bcd40155683ae19c65e1c03b4aa3499c5328201f1"
  },
  "kernelspec": {
   "display_name": "Python 3.8.10 64-bit",
   "language": "python",
   "name": "python3"
  },
  "language_info": {
   "codemirror_mode": {
    "name": "ipython",
    "version": 3
   },
   "file_extension": ".py",
   "mimetype": "text/x-python",
   "name": "python",
   "nbconvert_exporter": "python",
   "pygments_lexer": "ipython3",
   "version": "3.8.10"
  },
  "orig_nbformat": 4
 },
 "nbformat": 4,
 "nbformat_minor": 2
}
