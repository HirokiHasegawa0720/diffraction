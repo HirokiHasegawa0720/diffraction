{
 "cells": [
  {
   "cell_type": "code",
   "execution_count": 1,
   "metadata": {},
   "outputs": [
    {
     "name": "stdout",
     "output_type": "stream",
     "text": [
      "0      8347.252467\n",
      "1      8340.037915\n",
      "2      4348.958654\n",
      "3       279.890263\n",
      "4       259.723568\n",
      "          ...     \n",
      "813     120.616242\n",
      "814     120.616242\n",
      "815      96.709776\n",
      "816      77.842862\n",
      "817      65.888517\n",
      "Name: inductionlength, Length: 735, dtype: float64\n"
     ]
    }
   ],
   "source": [
    "#MSE vs サーチケース\n",
    "from sklearn.inspection import permutation_importance\n",
    "from sklearn.model_selection import KFold, StratifiedKFold, GridSearchCV, train_test_split,cross_val_score\n",
    "from sklearn.metrics import mean_squared_error, roc_auc_score, r2_score\n",
    "\n",
    "import pandas as pd\n",
    "import matplotlib.pyplot as plt\n",
    "import seaborn as sns\n",
    "import pandas as pd\n",
    "import numpy as np\n",
    "from sklearn.model_selection import train_test_split\n",
    "from sklearn.metrics import mean_squared_error,r2_score\n",
    "from sklearn.neural_network import MLPRegressor\n",
    "import itertools\n",
    "from sklearn.model_selection import GridSearchCV\n",
    "from sklearn.preprocessing import StandardScaler\n",
    "from sklearn.preprocessing import MinMaxScaler\n",
    "from mpl_toolkits.mplot3d import Axes3D\n",
    "\n",
    "#reaction length\n",
    "df = pd.read_excel('/mnt/c/CEA/all_mixtureexp15.xlsx')\n",
    "\n",
    "output = 'inductionlength'\n",
    "\n",
    "l1=['Fuel','Diluent','Equivalentratio','CoefficientDiluent','Oxidizer','diluentratio','P0', 'H0[KJ/kg]', 'M0[kg/kmol]', 'γ0[-]', 'pcj[bar]', 'Tcj[K]',\n",
    "       'Hcj[KJ/kg]', 'Mcj[kg/kmol]', 'γcj[-]', 'Mcj[-]', 'Tvn[K]','Lc' , output]\n",
    "\n",
    "#'Ea[KJ/kg]', 'theta' , 'inductionlength'\n",
    "\n",
    "XpcaFLRDED = pd.DataFrame({'P0':df['P0']})\n",
    "\n",
    "for i in range(len(l1)):\n",
    "    XpcaFLRDED[l1[i]]=df[l1[i]]\n",
    "\n",
    "XpcaFLRDED = XpcaFLRDED[~( XpcaFLRDED[output] == 0)]\n",
    "\n",
    "def calc_double(n):\n",
    "    return n*1000000\n",
    "\n",
    "XpcaFLRDED[output] = list(map(calc_double,XpcaFLRDED[output]))\n",
    "\n",
    "print(XpcaFLRDED[output])\n",
    "\n",
    "XpcaFLRDED =  XpcaFLRDED[~( XpcaFLRDED['Fuel'] == 'C2H2') | ~( XpcaFLRDED['Diluent'] == 'Ar') | ~( XpcaFLRDED['Lc'] ==  5)]\n",
    "XpcaFLRDED =  XpcaFLRDED[~( XpcaFLRDED['Fuel'] == 'C2H2') | ~( XpcaFLRDED['Diluent'] == 'Ar') | ~( XpcaFLRDED['Lc'] ==  10)]\n",
    "XpcaFLRDED =  XpcaFLRDED[~( XpcaFLRDED['Diluent'] == 'Kr')]\n",
    "\n",
    "dfC2H2N2train = XpcaFLRDED[~( XpcaFLRDED['Fuel'] == 'C2H2') | ~( XpcaFLRDED['Diluent'] == 'N2')]\n",
    "dfC2H2N2test = XpcaFLRDED[( XpcaFLRDED['Fuel'] == 'C2H2') & ( XpcaFLRDED['Diluent'] == 'N2')]\n",
    "\n",
    "dfC2H2Hetrain = dfC2H2N2train[~( dfC2H2N2train['Fuel'] == 'C2H2') | ~( dfC2H2N2train['Diluent'] == 'He')]\n",
    "dfC2H2Hetest = dfC2H2N2train[( dfC2H2N2train['Fuel'] == 'C2H2') & ( dfC2H2N2train['Diluent'] == 'He')]\n",
    "\n",
    "dfC2H6N2Otrain =  dfC2H2Hetrain[~( dfC2H2Hetrain['Fuel'] == 'C2H6') | ~( dfC2H2Hetrain['Oxidizer'] == 'N2O')]\n",
    "dfC2H6N2Otest = dfC2H2Hetrain[( dfC2H2Hetrain['Fuel'] == 'C2H6') & ( dfC2H2Hetrain['Oxidizer'] == 'N2O')]\n",
    "\n",
    "dfC3H6O2train =  dfC2H6N2Otrain[~( dfC2H6N2Otrain['Fuel'] == 'C3H6') | ~( dfC2H6N2Otrain['Oxidizer'] == 'O2')]\n",
    "dfC3H6O2test = dfC2H6N2Otrain[( dfC2H6N2Otrain['Fuel'] == 'C3H6') & ( dfC2H6N2Otrain['Oxidizer'] == 'O2')]\n",
    "\n",
    "dfC3H6N2Otrain =  dfC3H6O2train[~( dfC3H6O2train['Fuel'] == 'C3H6') | ~( dfC3H6O2train['Oxidizer'] == 'N2O')]\n",
    "dfC3H6N2Otest = dfC3H6O2train[( dfC3H6O2train['Fuel'] == 'C3H6') & ( dfC3H6O2train['Oxidizer'] == 'N2O')]\n",
    "\n",
    "dftrainval = dfC3H6N2Otrain.sample(frac=1)\n",
    "\n",
    "X_train = dftrainval.drop(columns=['Diluent','Fuel','Equivalentratio','CoefficientDiluent','Oxidizer',output,'Lc','diluentratio'])\n",
    "\n",
    "y_train = dftrainval[output]\n",
    "\n",
    "ss = StandardScaler()\n",
    "sX_train = ss.fit_transform(X_train)\n",
    "sX_train = pd.DataFrame(sX_train,columns=X_train.columns)\n"
   ]
  },
  {
   "cell_type": "code",
   "execution_count": 2,
   "metadata": {},
   "outputs": [
    {
     "name": "stderr",
     "output_type": "stream",
     "text": [
      "/home/hiroki/.local/lib/python3.8/site-packages/sklearn/neural_network/_multilayer_perceptron.py:614: ConvergenceWarning: Stochastic Optimizer: Maximum iterations (200) reached and the optimization hasn't converged yet.\n",
      "  warnings.warn(\n"
     ]
    },
    {
     "name": "stdout",
     "output_type": "stream",
     "text": [
      "Best parameters: {'activation': 'relu', 'alpha': 0.0001, 'hidden_layer_sizes': (200, 200, 200, 200), 'solver': 'adam'}\n",
      "Best cross-validation: 0.32458842039193314\n"
     ]
    },
    {
     "name": "stderr",
     "output_type": "stream",
     "text": [
      "/home/hiroki/.local/lib/python3.8/site-packages/sklearn/neural_network/_multilayer_perceptron.py:614: ConvergenceWarning: Stochastic Optimizer: Maximum iterations (200) reached and the optimization hasn't converged yet.\n",
      "  warnings.warn(\n"
     ]
    }
   ],
   "source": [
    "\n",
    "sol = ['adam']\n",
    "act = ['relu']\n",
    "hidd = []\n",
    "\n",
    "for i in [4]:\n",
    "    for j in [200]:\n",
    "        b=[j]*i\n",
    "        b=tuple(b)\n",
    "        hidd.append(b)\n",
    "\n",
    "alp=[1e-4]\n",
    "param_grid = {'solver':sol,'activation':act,'hidden_layer_sizes':hidd,'alpha':alp}\n",
    "grid1=GridSearchCV(MLPRegressor(), param_grid ,cv=2, n_jobs=4)\n",
    "grid1.fit(sX_train,y_train)\n",
    "\n",
    "print('Best parameters: {}'.format(grid1.best_params_))\n",
    "print('Best cross-validation: {}'.format(grid1.best_score_))"
   ]
  },
  {
   "cell_type": "code",
   "execution_count": 3,
   "metadata": {},
   "outputs": [
    {
     "name": "stderr",
     "output_type": "stream",
     "text": [
      "findfont: Font family ['Arial'] not found. Falling back to DejaVu Sans.\n",
      "findfont: Font family ['Arial'] not found. Falling back to DejaVu Sans.\n"
     ]
    },
    {
     "data": {
      "image/png": "[encoded data removed]",
      "text/plain": [
       "<Figure size 504x504 with 1 Axes>"
      ]
     },
     "metadata": {
      "needs_background": "light"
     },
     "output_type": "display_data"
    }
   ],
   "source": [
    "def plot_feature_importance(df):\n",
    "    n_features = len(df)\n",
    "    df_plot = df.sort_values('importance')\n",
    "    f_importance_plot = df_plot['importance'].values\n",
    "    plt.barh(range(n_features), f_importance_plot, align='center')\n",
    "    cols_plot = df_plot['feature'].values\n",
    "    plt.yticks(np.arange(n_features), cols_plot)\n",
    "    plt.xlabel('Feature importance')\n",
    "    plt.ylabel('Feature')\n",
    "\n",
    "result = permutation_importance(grid1,sX_train,y_train, n_repeats=5, random_state=42)\n",
    "\n",
    "cols = list(sX_train.columns)         # 特徴量名のリスト(目的変数CRIM以外)\n",
    "f_importance = np.array(result[\"importances\"].mean(axis=1)) # 特徴量重要度の算出\n",
    "f_importance = f_importance / np.sum(f_importance)  # 正規化(必要ない場合はコメントアウト)\n",
    "df_importance = pd.DataFrame({'feature':cols, 'importance':f_importance})\n",
    "df1=df_importance\n",
    "df_importance = df_importance.sort_values(\"importance\",ascending=False)\n",
    "\n",
    "plt.figure(figsize=(7,7))\n",
    "\n",
    "plt.rcParams['font.size'] = 18\n",
    "plt.rcParams['font.family'] = 'Arial'\n",
    "plt.rcParams['lines.linewidth'] = 2\n",
    "plt.rcParams['lines.markersize'] = 4.0\n",
    "\n",
    "plt.rcParams['axes.linewidth'] = 2.0\n",
    "\n",
    "# Tick Setting\n",
    "plt.rcParams['xtick.direction'] = 'in'\n",
    "plt.rcParams['xtick.top'] = True\n",
    "\n",
    "plt.rcParams['xtick.major.size'] = 10\n",
    "plt.rcParams['xtick.major.width'] = 2.0\n",
    "\n",
    "plt.rcParams['xtick.minor.visible'] = True\n",
    "plt.rcParams['xtick.minor.size'] = 5\n",
    "plt.rcParams['xtick.minor.width'] = 1.5\n",
    "#sns.barplot(x=\"Importance\", y=\"Features\",data=df_importance,ci=None)\n",
    "plot_feature_importance(df_importance)\n",
    "plt.title(\"Permutation Importance(mlp)\")\n",
    "plt.tight_layout()"
   ]
  }
 ],
 "metadata": {
  "interpreter": {
   "hash": "916dbcbb3f70747c44a77c7bcd40155683ae19c65e1c03b4aa3499c5328201f1"
  },
  "kernelspec": {
   "display_name": "Python 3.8.10 64-bit",
   "language": "python",
   "name": "python3"
  },
  "language_info": {
   "codemirror_mode": {
    "name": "ipython",
    "version": 3
   },
   "file_extension": ".py",
   "mimetype": "text/x-python",
   "name": "python",
   "nbconvert_exporter": "python",
   "pygments_lexer": "ipython3",
   "version": "3.8.10"
  },
  "orig_nbformat": 4
 },
 "nbformat": 4,
 "nbformat_minor": 2
}
